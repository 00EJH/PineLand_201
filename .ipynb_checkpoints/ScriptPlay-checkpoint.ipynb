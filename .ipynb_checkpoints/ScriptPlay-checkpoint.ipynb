{
 "cells": [
  {
   "cell_type": "code",
   "execution_count": 1,
   "id": "eb3aa06a",
   "metadata": {},
   "outputs": [],
   "source": [
    "import numpy as np\n",
    "import pandas as pd"
   ]
  },
  {
   "cell_type": "code",
   "execution_count": 4,
   "id": "bd3290de",
   "metadata": {},
   "outputs": [],
   "source": [
    "x1 = np.load(\"indianpinearray.npy\")\n",
    "x2 = np.load(\"IPgt.npy\")"
   ]
  },
  {
   "cell_type": "code",
   "execution_count": 7,
   "id": "47403ffe",
   "metadata": {},
   "outputs": [
    {
     "name": "stdout",
     "output_type": "stream",
     "text": [
      "Indian Pine Array: (145, 145, 200)\n",
      "Indian Pine Array: (145, 145)\n"
     ]
    }
   ],
   "source": [
    "print(f'Indian Pine Array: {x1.shape}')\n",
    "print(f'Indian Pine Array: {x2.shape}')"
   ]
  },
  {
   "cell_type": "code",
   "execution_count": null,
   "id": "2dc3f538",
   "metadata": {},
   "outputs": [],
   "source": []
  }
 ],
 "metadata": {
  "kernelspec": {
   "display_name": "Python 3 (ipykernel)",
   "language": "python",
   "name": "python3"
  },
  "language_info": {
   "codemirror_mode": {
    "name": "ipython",
    "version": 3
   },
   "file_extension": ".py",
   "mimetype": "text/x-python",
   "name": "python",
   "nbconvert_exporter": "python",
   "pygments_lexer": "ipython3",
   "version": "3.10.9"
  }
 },
 "nbformat": 4,
 "nbformat_minor": 5
}
